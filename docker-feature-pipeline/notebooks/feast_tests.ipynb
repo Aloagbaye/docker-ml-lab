{
 "cells": [
  {
   "cell_type": "code",
   "execution_count": 3,
   "id": "9421651c-058a-4d6b-8583-3e2b32aa092b",
   "metadata": {},
   "outputs": [
    {
     "name": "stdout",
     "output_type": "stream",
     "text": [
      "Requirement already satisfied: psycopg2-binary in /usr/local/lib/python3.11/site-packages (2.9.10)\n",
      "\u001b[33mWARNING: Running pip as the 'root' user can result in broken permissions and conflicting behaviour with the system package manager. It is recommended to use a virtual environment instead: https://pip.pypa.io/warnings/venv\u001b[0m\u001b[33m\n",
      "\u001b[0m\n",
      "\u001b[1m[\u001b[0m\u001b[34;49mnotice\u001b[0m\u001b[1;39;49m]\u001b[0m\u001b[39;49m A new release of pip is available: \u001b[0m\u001b[31;49m24.0\u001b[0m\u001b[39;49m -> \u001b[0m\u001b[32;49m25.2\u001b[0m\n",
      "\u001b[1m[\u001b[0m\u001b[34;49mnotice\u001b[0m\u001b[1;39;49m]\u001b[0m\u001b[39;49m To update, run: \u001b[0m\u001b[32;49mpip install --upgrade pip\u001b[0m\n"
     ]
    }
   ],
   "source": [
    "!pip install psycopg2-binary"
   ]
  },
  {
   "cell_type": "code",
   "execution_count": 6,
   "id": "19c4d51e-2cdd-4029-ae7a-d81b40a16b98",
   "metadata": {},
   "outputs": [
    {
     "name": "stdout",
     "output_type": "stream",
     "text": [
      "Requirement already satisfied: psycopg2 in /usr/local/lib/python3.11/site-packages (2.9.10)\n",
      "\u001b[33mWARNING: Running pip as the 'root' user can result in broken permissions and conflicting behaviour with the system package manager. It is recommended to use a virtual environment instead: https://pip.pypa.io/warnings/venv\u001b[0m\u001b[33m\n",
      "\u001b[0m\n",
      "\u001b[1m[\u001b[0m\u001b[34;49mnotice\u001b[0m\u001b[1;39;49m]\u001b[0m\u001b[39;49m A new release of pip is available: \u001b[0m\u001b[31;49m24.0\u001b[0m\u001b[39;49m -> \u001b[0m\u001b[32;49m25.2\u001b[0m\n",
      "\u001b[1m[\u001b[0m\u001b[34;49mnotice\u001b[0m\u001b[1;39;49m]\u001b[0m\u001b[39;49m To update, run: \u001b[0m\u001b[32;49mpip install --upgrade pip\u001b[0m\n"
     ]
    }
   ],
   "source": [
    "!pip install psycopg2"
   ]
  },
  {
   "cell_type": "code",
   "execution_count": 15,
   "id": "287d1674-c82d-487c-9762-57e2f348a2aa",
   "metadata": {},
   "outputs": [
    {
     "name": "stdout",
     "output_type": "stream",
     "text": [
      "Project: feast_project\n",
      "Feature views: []\n"
     ]
    }
   ],
   "source": [
    "from feast import FeatureStore\n",
    "\n",
    "# Absolute path to your Feast repo (from inside the container)\n",
    "store = FeatureStore(repo_path=\"/app/feast_repo\")\n",
    "\n",
    "# Quick test\n",
    "print(\"Project:\", store.project)\n",
    "print(\"Feature views:\", [fv.name for fv in store.list_feature_views()])"
   ]
  },
  {
   "cell_type": "code",
   "execution_count": 17,
   "id": "8b07d4c3-7412-4197-80c9-6dcc677e0da9",
   "metadata": {},
   "outputs": [],
   "source": [
    "# /app/feast_repo/customer_fv.py\n",
    "from feast import Entity, FeatureView, Field, FileSource\n",
    "from feast.types import Int64, String\n",
    "\n",
    "customer = Entity(name=\"customer_id\", join_keys=[\"customer_id\"])\n",
    "\n",
    "src = FileSource(path=\"app/feast_repo/data/customers.csv\", timestamp_field=\"event_timestamp\")\n",
    "\n",
    "customer_features = FeatureView(         # <-- name MUST be exactly \"customer_features\"\n",
    "    name=\"customer_features\",\n",
    "    entities=[customer],\n",
    "    schema=[Field(name=\"segment\", dtype=String), Field(name=\"age\", dtype=Int64)],\n",
    "    online=True,\n",
    "    source=src,\n",
    ")\n"
   ]
  },
  {
   "cell_type": "code",
   "execution_count": 18,
   "id": "73f843ba-56a2-46d1-8198-e94afe0160e2",
   "metadata": {},
   "outputs": [
    {
     "data": {
      "text/plain": [
       "<FeatureView(name = customer_features, entities = ['customer_id'], ttl = 0:00:00, stream_source = None, batch_source = {\n",
       "  \"type\": \"BATCH_FILE\",\n",
       "  \"timestampField\": \"event_timestamp\",\n",
       "  \"fileOptions\": {\n",
       "    \"uri\": \"app/feast_repo/data/customers.csv\"\n",
       "  },\n",
       "  \"name\": \"app/feast_repo/data/customers.csv\"\n",
       "}, entity_columns = [], features = [Field(\n",
       "    name='segment',\n",
       "    dtype=<PrimitiveFeastType.STRING: 2>,\n",
       "    description='',\n",
       "    tags={}\n",
       "), Field(\n",
       "    name='age',\n",
       "    dtype=<PrimitiveFeastType.INT64: 4>,\n",
       "    description='',\n",
       "    tags={}\n",
       ")], description = , tags = {}, owner = , projection = FeatureViewProjection(name='customer_features', name_alias=None, desired_features=[], features=[Field(\n",
       "    name='segment',\n",
       "    dtype=<PrimitiveFeastType.STRING: 2>,\n",
       "    description='',\n",
       "    tags={}\n",
       "), Field(\n",
       "    name='age',\n",
       "    dtype=<PrimitiveFeastType.INT64: 4>,\n",
       "    description='',\n",
       "    tags={}\n",
       ")], join_key_map={}, timestamp_field=None, date_partition_column=None, created_timestamp_column=None, batch_source=<feast.infra.offline_stores.file_source.FileSource object at 0x71cf77d0bc50>), created_timestamp = None, last_updated_timestamp = None, source = {\n",
       "  \"type\": \"BATCH_FILE\",\n",
       "  \"timestampField\": \"event_timestamp\",\n",
       "  \"fileOptions\": {\n",
       "    \"uri\": \"app/feast_repo/data/customers.csv\"\n",
       "  },\n",
       "  \"name\": \"app/feast_repo/data/customers.csv\"\n",
       "}, online = True, materialization_intervals = [])>"
      ]
     },
     "execution_count": 18,
     "metadata": {},
     "output_type": "execute_result"
    }
   ],
   "source": [
    "customer_features"
   ]
  },
  {
   "cell_type": "code",
   "execution_count": 19,
   "id": "ccb93a34-fbc5-4f2a-a165-d6f317f033d5",
   "metadata": {},
   "outputs": [
    {
     "ename": "FeatureViewNotFoundException",
     "evalue": "Feature view customer_features does not exist in project feast_project",
     "output_type": "error",
     "traceback": [
      "\u001b[31m---------------------------------------------------------------------------\u001b[39m",
      "\u001b[31mFeatureViewNotFoundException\u001b[39m              Traceback (most recent call last)",
      "\u001b[36mCell\u001b[39m\u001b[36m \u001b[39m\u001b[32mIn[19]\u001b[39m\u001b[32m, line 9\u001b[39m\n\u001b[32m      7\u001b[39m \u001b[38;5;66;03m# Fetch online features for a few customers\u001b[39;00m\n\u001b[32m      8\u001b[39m entity_df = pd.DataFrame({\u001b[33m\"\u001b[39m\u001b[33mcustomer_id\u001b[39m\u001b[33m\"\u001b[39m:[\u001b[32m1\u001b[39m,\u001b[32m2\u001b[39m,\u001b[32m3\u001b[39m]})\n\u001b[32m----> \u001b[39m\u001b[32m9\u001b[39m online_features = \u001b[43mstore\u001b[49m\u001b[43m.\u001b[49m\u001b[43mget_online_features\u001b[49m\u001b[43m(\u001b[49m\n\u001b[32m     10\u001b[39m \u001b[43m    \u001b[49m\u001b[43mfeatures\u001b[49m\u001b[43m=\u001b[49m\u001b[43m[\u001b[49m\n\u001b[32m     11\u001b[39m \u001b[43m        \u001b[49m\u001b[33;43m\"\u001b[39;49m\u001b[33;43mcustomer_features:total_orders\u001b[39;49m\u001b[33;43m\"\u001b[39;49m\u001b[43m,\u001b[49m\n\u001b[32m     12\u001b[39m \u001b[43m        \u001b[49m\u001b[33;43m\"\u001b[39;49m\u001b[33;43mcustomer_features:avg_order_value\u001b[39;49m\u001b[33;43m\"\u001b[39;49m\u001b[43m,\u001b[49m\n\u001b[32m     13\u001b[39m \u001b[43m    \u001b[49m\u001b[43m]\u001b[49m\u001b[43m,\u001b[49m\n\u001b[32m     14\u001b[39m \u001b[43m    \u001b[49m\u001b[43mentity_rows\u001b[49m\u001b[43m=\u001b[49m\u001b[43mentity_df\u001b[49m\u001b[43m.\u001b[49m\u001b[43mto_dict\u001b[49m\u001b[43m(\u001b[49m\u001b[33;43m\"\u001b[39;49m\u001b[33;43mrecords\u001b[39;49m\u001b[33;43m\"\u001b[39;49m\u001b[43m)\u001b[49m\n\u001b[32m     15\u001b[39m \u001b[43m)\u001b[49m.to_dict()\n\u001b[32m     16\u001b[39m online_features\n",
      "\u001b[36mFile \u001b[39m\u001b[32m/usr/local/lib/python3.11/site-packages/feast/feature_store.py:1696\u001b[39m, in \u001b[36mFeatureStore.get_online_features\u001b[39m\u001b[34m(self, features, entity_rows, full_feature_names)\u001b[39m\n\u001b[32m   1653\u001b[39m \u001b[38;5;250m\u001b[39m\u001b[33;03m\"\"\"\u001b[39;00m\n\u001b[32m   1654\u001b[39m \u001b[33;03mRetrieves the latest online feature data.\u001b[39;00m\n\u001b[32m   1655\u001b[39m \n\u001b[32m   (...)\u001b[39m\u001b[32m   1692\u001b[39m \u001b[33;03m    >>> online_response_dict = online_response.to_dict()\u001b[39;00m\n\u001b[32m   1693\u001b[39m \u001b[33;03m\"\"\"\u001b[39;00m\n\u001b[32m   1694\u001b[39m provider = \u001b[38;5;28mself\u001b[39m._get_provider()\n\u001b[32m-> \u001b[39m\u001b[32m1696\u001b[39m \u001b[38;5;28;01mreturn\u001b[39;00m \u001b[43mprovider\u001b[49m\u001b[43m.\u001b[49m\u001b[43mget_online_features\u001b[49m\u001b[43m(\u001b[49m\n\u001b[32m   1697\u001b[39m \u001b[43m    \u001b[49m\u001b[43mconfig\u001b[49m\u001b[43m=\u001b[49m\u001b[38;5;28;43mself\u001b[39;49m\u001b[43m.\u001b[49m\u001b[43mconfig\u001b[49m\u001b[43m,\u001b[49m\n\u001b[32m   1698\u001b[39m \u001b[43m    \u001b[49m\u001b[43mfeatures\u001b[49m\u001b[43m=\u001b[49m\u001b[43mfeatures\u001b[49m\u001b[43m,\u001b[49m\n\u001b[32m   1699\u001b[39m \u001b[43m    \u001b[49m\u001b[43mentity_rows\u001b[49m\u001b[43m=\u001b[49m\u001b[43mentity_rows\u001b[49m\u001b[43m,\u001b[49m\n\u001b[32m   1700\u001b[39m \u001b[43m    \u001b[49m\u001b[43mregistry\u001b[49m\u001b[43m=\u001b[49m\u001b[38;5;28;43mself\u001b[39;49m\u001b[43m.\u001b[49m\u001b[43m_registry\u001b[49m\u001b[43m,\u001b[49m\n\u001b[32m   1701\u001b[39m \u001b[43m    \u001b[49m\u001b[43mproject\u001b[49m\u001b[43m=\u001b[49m\u001b[38;5;28;43mself\u001b[39;49m\u001b[43m.\u001b[49m\u001b[43mproject\u001b[49m\u001b[43m,\u001b[49m\n\u001b[32m   1702\u001b[39m \u001b[43m    \u001b[49m\u001b[43mfull_feature_names\u001b[49m\u001b[43m=\u001b[49m\u001b[43mfull_feature_names\u001b[49m\u001b[43m,\u001b[49m\n\u001b[32m   1703\u001b[39m \u001b[43m\u001b[49m\u001b[43m)\u001b[49m\n",
      "\u001b[36mFile \u001b[39m\u001b[32m/usr/local/lib/python3.11/site-packages/feast/infra/passthrough_provider.py:249\u001b[39m, in \u001b[36mPassthroughProvider.get_online_features\u001b[39m\u001b[34m(self, config, features, entity_rows, registry, project, full_feature_names)\u001b[39m\n\u001b[32m    237\u001b[39m \u001b[38;5;28;01mdef\u001b[39;00m\u001b[38;5;250m \u001b[39m\u001b[34mget_online_features\u001b[39m(\n\u001b[32m    238\u001b[39m     \u001b[38;5;28mself\u001b[39m,\n\u001b[32m    239\u001b[39m     config: RepoConfig,\n\u001b[32m   (...)\u001b[39m\u001b[32m    247\u001b[39m     full_feature_names: \u001b[38;5;28mbool\u001b[39m = \u001b[38;5;28;01mFalse\u001b[39;00m,\n\u001b[32m    248\u001b[39m ) -> OnlineResponse:\n\u001b[32m--> \u001b[39m\u001b[32m249\u001b[39m     \u001b[38;5;28;01mreturn\u001b[39;00m \u001b[38;5;28;43mself\u001b[39;49m\u001b[43m.\u001b[49m\u001b[43monline_store\u001b[49m\u001b[43m.\u001b[49m\u001b[43mget_online_features\u001b[49m\u001b[43m(\u001b[49m\n\u001b[32m    250\u001b[39m \u001b[43m        \u001b[49m\u001b[43mconfig\u001b[49m\u001b[43m=\u001b[49m\u001b[43mconfig\u001b[49m\u001b[43m,\u001b[49m\n\u001b[32m    251\u001b[39m \u001b[43m        \u001b[49m\u001b[43mfeatures\u001b[49m\u001b[43m=\u001b[49m\u001b[43mfeatures\u001b[49m\u001b[43m,\u001b[49m\n\u001b[32m    252\u001b[39m \u001b[43m        \u001b[49m\u001b[43mentity_rows\u001b[49m\u001b[43m=\u001b[49m\u001b[43mentity_rows\u001b[49m\u001b[43m,\u001b[49m\n\u001b[32m    253\u001b[39m \u001b[43m        \u001b[49m\u001b[43mregistry\u001b[49m\u001b[43m=\u001b[49m\u001b[43mregistry\u001b[49m\u001b[43m,\u001b[49m\n\u001b[32m    254\u001b[39m \u001b[43m        \u001b[49m\u001b[43mproject\u001b[49m\u001b[43m=\u001b[49m\u001b[43mproject\u001b[49m\u001b[43m,\u001b[49m\n\u001b[32m    255\u001b[39m \u001b[43m        \u001b[49m\u001b[43mfull_feature_names\u001b[49m\u001b[43m=\u001b[49m\u001b[43mfull_feature_names\u001b[49m\u001b[43m,\u001b[49m\n\u001b[32m    256\u001b[39m \u001b[43m    \u001b[49m\u001b[43m)\u001b[49m\n",
      "\u001b[36mFile \u001b[39m\u001b[32m/usr/local/lib/python3.11/site-packages/feast/infra/online_stores/online_store.py:179\u001b[39m, in \u001b[36mOnlineStore.get_online_features\u001b[39m\u001b[34m(self, config, features, entity_rows, registry, project, full_feature_names)\u001b[39m\n\u001b[32m    165\u001b[39m                 \u001b[38;5;28;01mraise\u001b[39;00m \u001b[38;5;167;01mValueError\u001b[39;00m(\n\u001b[32m    166\u001b[39m                     \u001b[33m\"\u001b[39m\u001b[33mAll entity_rows must have the same keys.\u001b[39m\u001b[33m\"\u001b[39m\n\u001b[32m    167\u001b[39m                 ) \u001b[38;5;28;01mfrom\u001b[39;00m\u001b[38;5;250m \u001b[39m\u001b[34;01me\u001b[39;00m\n\u001b[32m    169\u001b[39m     entity_rows = columnar\n\u001b[32m    171\u001b[39m (\n\u001b[32m    172\u001b[39m     join_key_values,\n\u001b[32m    173\u001b[39m     grouped_refs,\n\u001b[32m    174\u001b[39m     entity_name_to_join_key_map,\n\u001b[32m    175\u001b[39m     requested_on_demand_feature_views,\n\u001b[32m    176\u001b[39m     feature_refs,\n\u001b[32m    177\u001b[39m     requested_result_row_names,\n\u001b[32m    178\u001b[39m     online_features_response,\n\u001b[32m--> \u001b[39m\u001b[32m179\u001b[39m ) = \u001b[43mutils\u001b[49m\u001b[43m.\u001b[49m\u001b[43m_prepare_entities_to_read_from_online_store\u001b[49m\u001b[43m(\u001b[49m\n\u001b[32m    180\u001b[39m \u001b[43m    \u001b[49m\u001b[43mregistry\u001b[49m\u001b[43m=\u001b[49m\u001b[43mregistry\u001b[49m\u001b[43m,\u001b[49m\n\u001b[32m    181\u001b[39m \u001b[43m    \u001b[49m\u001b[43mproject\u001b[49m\u001b[43m=\u001b[49m\u001b[43mproject\u001b[49m\u001b[43m,\u001b[49m\n\u001b[32m    182\u001b[39m \u001b[43m    \u001b[49m\u001b[43mfeatures\u001b[49m\u001b[43m=\u001b[49m\u001b[43mfeatures\u001b[49m\u001b[43m,\u001b[49m\n\u001b[32m    183\u001b[39m \u001b[43m    \u001b[49m\u001b[43mentity_values\u001b[49m\u001b[43m=\u001b[49m\u001b[43mentity_rows\u001b[49m\u001b[43m,\u001b[49m\n\u001b[32m    184\u001b[39m \u001b[43m    \u001b[49m\u001b[43mfull_feature_names\u001b[49m\u001b[43m=\u001b[49m\u001b[43mfull_feature_names\u001b[49m\u001b[43m,\u001b[49m\n\u001b[32m    185\u001b[39m \u001b[43m    \u001b[49m\u001b[43mnative_entity_values\u001b[49m\u001b[43m=\u001b[49m\u001b[38;5;28;43;01mTrue\u001b[39;49;00m\u001b[43m,\u001b[49m\n\u001b[32m    186\u001b[39m \u001b[43m\u001b[49m\u001b[43m)\u001b[49m\n\u001b[32m    188\u001b[39m \u001b[38;5;28;01mfor\u001b[39;00m table, requested_features \u001b[38;5;129;01min\u001b[39;00m grouped_refs:\n\u001b[32m    189\u001b[39m     \u001b[38;5;66;03m# Get the correct set of entity values with the correct join keys.\u001b[39;00m\n\u001b[32m    190\u001b[39m     table_entity_values, idxs = utils._get_unique_entities(\n\u001b[32m    191\u001b[39m         table,\n\u001b[32m    192\u001b[39m         join_key_values,\n\u001b[32m    193\u001b[39m         entity_name_to_join_key_map,\n\u001b[32m    194\u001b[39m     )\n",
      "\u001b[36mFile \u001b[39m\u001b[32m/usr/local/lib/python3.11/site-packages/feast/utils.py:1036\u001b[39m, in \u001b[36m_prepare_entities_to_read_from_online_store\u001b[39m\u001b[34m(registry, project, features, entity_values, full_feature_names, native_entity_values)\u001b[39m\n\u001b[32m   1014\u001b[39m \u001b[38;5;28;01mdef\u001b[39;00m\u001b[38;5;250m \u001b[39m\u001b[34m_prepare_entities_to_read_from_online_store\u001b[39m(\n\u001b[32m   1015\u001b[39m     registry,\n\u001b[32m   1016\u001b[39m     project,\n\u001b[32m   (...)\u001b[39m\u001b[32m   1022\u001b[39m     native_entity_values: \u001b[38;5;28mbool\u001b[39m = \u001b[38;5;28;01mTrue\u001b[39;00m,\n\u001b[32m   1023\u001b[39m ):\n\u001b[32m   1024\u001b[39m     \u001b[38;5;28;01mfrom\u001b[39;00m\u001b[38;5;250m \u001b[39m\u001b[34;01mfeast\u001b[39;00m\u001b[34;01m.\u001b[39;00m\u001b[34;01mfeature_view\u001b[39;00m\u001b[38;5;250m \u001b[39m\u001b[38;5;28;01mimport\u001b[39;00m DUMMY_ENTITY, DUMMY_ENTITY_ID, DUMMY_ENTITY_VAL\n\u001b[32m   1026\u001b[39m     (\n\u001b[32m   1027\u001b[39m         feature_refs,\n\u001b[32m   1028\u001b[39m         requested_on_demand_feature_views,\n\u001b[32m   1029\u001b[39m         entity_name_to_join_key_map,\n\u001b[32m   1030\u001b[39m         entity_type_map,\n\u001b[32m   1031\u001b[39m         join_keys_set,\n\u001b[32m   1032\u001b[39m         grouped_refs,\n\u001b[32m   1033\u001b[39m         requested_result_row_names,\n\u001b[32m   1034\u001b[39m         needed_request_data,\n\u001b[32m   1035\u001b[39m         entityless_case,\n\u001b[32m-> \u001b[39m\u001b[32m1036\u001b[39m     ) = \u001b[43m_get_online_request_context\u001b[49m\u001b[43m(\u001b[49m\u001b[43mregistry\u001b[49m\u001b[43m,\u001b[49m\u001b[43m \u001b[49m\u001b[43mproject\u001b[49m\u001b[43m,\u001b[49m\u001b[43m \u001b[49m\u001b[43mfeatures\u001b[49m\u001b[43m,\u001b[49m\u001b[43m \u001b[49m\u001b[43mfull_feature_names\u001b[49m\u001b[43m)\u001b[49m\n\u001b[32m   1038\u001b[39m     \u001b[38;5;66;03m# Extract Sequence from RepeatedValue Protobuf.\u001b[39;00m\n\u001b[32m   1039\u001b[39m     entity_value_lists: Dict[\u001b[38;5;28mstr\u001b[39m, Union[List[Any], List[ValueProto]]] = {\n\u001b[32m   1040\u001b[39m         k: \u001b[38;5;28mlist\u001b[39m(v) \u001b[38;5;28;01mif\u001b[39;00m \u001b[38;5;28misinstance\u001b[39m(v, Sequence) \u001b[38;5;28;01melse\u001b[39;00m \u001b[38;5;28mlist\u001b[39m(v.val)\n\u001b[32m   1041\u001b[39m         \u001b[38;5;28;01mfor\u001b[39;00m k, v \u001b[38;5;129;01min\u001b[39;00m entity_values.items()\n\u001b[32m   1042\u001b[39m     }\n",
      "\u001b[36mFile \u001b[39m\u001b[32m/usr/local/lib/python3.11/site-packages/feast/utils.py:959\u001b[39m, in \u001b[36m_get_online_request_context\u001b[39m\u001b[34m(registry, project, features, full_feature_names)\u001b[39m\n\u001b[32m    952\u001b[39m \u001b[38;5;28;01mfrom\u001b[39;00m\u001b[38;5;250m \u001b[39m\u001b[34;01mfeast\u001b[39;00m\u001b[34;01m.\u001b[39;00m\u001b[34;01mfeature_view\u001b[39;00m\u001b[38;5;250m \u001b[39m\u001b[38;5;28;01mimport\u001b[39;00m DUMMY_ENTITY_NAME\n\u001b[32m    954\u001b[39m _feature_refs = _get_features(registry, project, features, allow_cache=\u001b[38;5;28;01mTrue\u001b[39;00m)\n\u001b[32m    956\u001b[39m (\n\u001b[32m    957\u001b[39m     requested_feature_views,\n\u001b[32m    958\u001b[39m     requested_on_demand_feature_views,\n\u001b[32m--> \u001b[39m\u001b[32m959\u001b[39m ) = \u001b[43m_get_feature_views_to_use\u001b[49m\u001b[43m(\u001b[49m\n\u001b[32m    960\u001b[39m \u001b[43m    \u001b[49m\u001b[43mregistry\u001b[49m\u001b[43m=\u001b[49m\u001b[43mregistry\u001b[49m\u001b[43m,\u001b[49m\n\u001b[32m    961\u001b[39m \u001b[43m    \u001b[49m\u001b[43mproject\u001b[49m\u001b[43m=\u001b[49m\u001b[43mproject\u001b[49m\u001b[43m,\u001b[49m\n\u001b[32m    962\u001b[39m \u001b[43m    \u001b[49m\u001b[43mfeatures\u001b[49m\u001b[43m=\u001b[49m\u001b[43mfeatures\u001b[49m\u001b[43m,\u001b[49m\n\u001b[32m    963\u001b[39m \u001b[43m    \u001b[49m\u001b[43mallow_cache\u001b[49m\u001b[43m=\u001b[49m\u001b[38;5;28;43;01mTrue\u001b[39;49;00m\u001b[43m,\u001b[49m\n\u001b[32m    964\u001b[39m \u001b[43m    \u001b[49m\u001b[43mhide_dummy_entity\u001b[49m\u001b[43m=\u001b[49m\u001b[38;5;28;43;01mFalse\u001b[39;49;00m\u001b[43m,\u001b[49m\n\u001b[32m    965\u001b[39m \u001b[43m\u001b[49m\u001b[43m)\u001b[49m\n\u001b[32m    967\u001b[39m (\n\u001b[32m    968\u001b[39m     entity_name_to_join_key_map,\n\u001b[32m    969\u001b[39m     entity_type_map,\n\u001b[32m    970\u001b[39m     join_keys_set,\n\u001b[32m    971\u001b[39m ) = _get_entity_maps(registry, project, requested_feature_views)\n\u001b[32m    973\u001b[39m _validate_feature_refs(_feature_refs, full_feature_names)\n",
      "\u001b[36mFile \u001b[39m\u001b[32m/usr/local/lib/python3.11/site-packages/feast/utils.py:907\u001b[39m, in \u001b[36m_get_feature_views_to_use\u001b[39m\u001b[34m(registry, project, features, allow_cache, hide_dummy_entity)\u001b[39m\n\u001b[32m    905\u001b[39m fvs_to_use, od_fvs_to_use = [], []\n\u001b[32m    906\u001b[39m \u001b[38;5;28;01mfor\u001b[39;00m name, projection \u001b[38;5;129;01min\u001b[39;00m feature_views:\n\u001b[32m--> \u001b[39m\u001b[32m907\u001b[39m     fv = \u001b[43mregistry\u001b[49m\u001b[43m.\u001b[49m\u001b[43mget_any_feature_view\u001b[49m\u001b[43m(\u001b[49m\u001b[43mname\u001b[49m\u001b[43m,\u001b[49m\u001b[43m \u001b[49m\u001b[43mproject\u001b[49m\u001b[43m,\u001b[49m\u001b[43m \u001b[49m\u001b[43mallow_cache\u001b[49m\u001b[43m)\u001b[49m\n\u001b[32m    909\u001b[39m     \u001b[38;5;28;01mif\u001b[39;00m \u001b[38;5;28misinstance\u001b[39m(fv, OnDemandFeatureView):\n\u001b[32m    910\u001b[39m         od_fvs_to_use.append(\n\u001b[32m    911\u001b[39m             fv.with_projection(copy.copy(projection)) \u001b[38;5;28;01mif\u001b[39;00m projection \u001b[38;5;28;01melse\u001b[39;00m fv\n\u001b[32m    912\u001b[39m         )\n",
      "\u001b[36mFile \u001b[39m\u001b[32m/usr/local/lib/python3.11/site-packages/feast/infra/registry/registry.py:606\u001b[39m, in \u001b[36mRegistry.get_any_feature_view\u001b[39m\u001b[34m(self, name, project, allow_cache)\u001b[39m\n\u001b[32m    600\u001b[39m \u001b[38;5;28;01mdef\u001b[39;00m\u001b[38;5;250m \u001b[39m\u001b[34mget_any_feature_view\u001b[39m(\n\u001b[32m    601\u001b[39m     \u001b[38;5;28mself\u001b[39m, name: \u001b[38;5;28mstr\u001b[39m, project: \u001b[38;5;28mstr\u001b[39m, allow_cache: \u001b[38;5;28mbool\u001b[39m = \u001b[38;5;28;01mFalse\u001b[39;00m\n\u001b[32m    602\u001b[39m ) -> BaseFeatureView:\n\u001b[32m    603\u001b[39m     registry_proto = \u001b[38;5;28mself\u001b[39m._get_registry_proto(\n\u001b[32m    604\u001b[39m         project=project, allow_cache=allow_cache\n\u001b[32m    605\u001b[39m     )\n\u001b[32m--> \u001b[39m\u001b[32m606\u001b[39m     \u001b[38;5;28;01mreturn\u001b[39;00m \u001b[43mproto_registry_utils\u001b[49m\u001b[43m.\u001b[49m\u001b[43mget_any_feature_view\u001b[49m\u001b[43m(\u001b[49m\u001b[43mregistry_proto\u001b[49m\u001b[43m,\u001b[49m\u001b[43m \u001b[49m\u001b[43mname\u001b[49m\u001b[43m,\u001b[49m\u001b[43m \u001b[49m\u001b[43mproject\u001b[49m\u001b[43m)\u001b[49m\n",
      "\u001b[36mFile \u001b[39m\u001b[32m/usr/local/lib/python3.11/site-packages/feast/infra/registry/proto_registry_utils.py:121\u001b[39m, in \u001b[36mget_any_feature_view\u001b[39m\u001b[34m(registry_proto, name, project)\u001b[39m\n\u001b[32m    115\u001b[39m     \u001b[38;5;28;01mif\u001b[39;00m (\n\u001b[32m    116\u001b[39m         on_demand_feature_view.spec.project == project\n\u001b[32m    117\u001b[39m         \u001b[38;5;129;01mand\u001b[39;00m on_demand_feature_view.spec.name == name\n\u001b[32m    118\u001b[39m     ):\n\u001b[32m    119\u001b[39m         \u001b[38;5;28;01mreturn\u001b[39;00m OnDemandFeatureView.from_proto(on_demand_feature_view)\n\u001b[32m--> \u001b[39m\u001b[32m121\u001b[39m \u001b[38;5;28;01mraise\u001b[39;00m FeatureViewNotFoundException(name, project)\n",
      "\u001b[31mFeatureViewNotFoundException\u001b[39m: Feature view customer_features does not exist in project feast_project"
     ]
    }
   ],
   "source": [
    "import os\n",
    "from feast import FeatureStore\n",
    "import pandas as pd\n",
    "\n",
    "store = FeatureStore(repo_path=\"/app/feast_repo\")\n",
    "\n",
    "# Fetch online features for a few customers\n",
    "entity_df = pd.DataFrame({\"customer_id\":[1,2,3]})\n",
    "online_features = store.get_online_features(\n",
    "    features=[\n",
    "        \"customer_features:total_orders\",\n",
    "        \"customer_features:avg_order_value\",\n",
    "    ],\n",
    "    entity_rows=entity_df.to_dict(\"records\")\n",
    ").to_dict()\n",
    "online_features"
   ]
  },
  {
   "cell_type": "code",
   "execution_count": 14,
   "id": "ed866da7-436e-470f-b218-101a5ed090d4",
   "metadata": {},
   "outputs": [
    {
     "name": "stdout",
     "output_type": "stream",
     "text": [
      "/app/notebooks\n"
     ]
    }
   ],
   "source": [
    "import os\n",
    "print(os.getcwd())"
   ]
  },
  {
   "cell_type": "code",
   "execution_count": null,
   "id": "6d19374f-586e-43c5-b2f6-de4c4510edf2",
   "metadata": {},
   "outputs": [],
   "source": []
  }
 ],
 "metadata": {
  "kernelspec": {
   "display_name": "Python 3 (ipykernel)",
   "language": "python",
   "name": "python3"
  },
  "language_info": {
   "codemirror_mode": {
    "name": "ipython",
    "version": 3
   },
   "file_extension": ".py",
   "mimetype": "text/x-python",
   "name": "python",
   "nbconvert_exporter": "python",
   "pygments_lexer": "ipython3",
   "version": "3.11.13"
  }
 },
 "nbformat": 4,
 "nbformat_minor": 5
}
